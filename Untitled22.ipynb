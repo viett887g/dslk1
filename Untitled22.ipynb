{
  "nbformat": 4,
  "nbformat_minor": 0,
  "metadata": {
    "colab": {
      "name": "Untitled22.ipynb",
      "provenance": [],
      "authorship_tag": "ABX9TyOOOwKOc8fthVtYyBfuerlt",
      "include_colab_link": true
    },
    "kernelspec": {
      "name": "python3",
      "display_name": "Python 3"
    },
    "language_info": {
      "name": "python"
    }
  },
  "cells": [
    {
      "cell_type": "markdown",
      "metadata": {
        "id": "view-in-github",
        "colab_type": "text"
      },
      "source": [
        "<a href=\"https://colab.research.google.com/github/viett887g/dslk1/blob/main/Untitled22.ipynb\" target=\"_parent\"><img src=\"https://colab.research.google.com/assets/colab-badge.svg\" alt=\"Open In Colab\"/></a>"
      ]
    },
    {
      "cell_type": "markdown",
      "source": [
        "Bài 1. Nhập một dãy số nguyên từ bàn phím, và sắp xếp chúng theo thứ tự tăng dần\n",
        "\n",
        "Input: 5 2 4 18 9 1\n",
        "\n",
        "Output: 1 2 4 5 9 18"
      ],
      "metadata": {
        "id": "a9QwbijeII_a"
      }
    },
    {
      "cell_type": "code",
      "execution_count": null,
      "metadata": {
        "colab": {
          "base_uri": "https://localhost:8080/"
        },
        "id": "5uDqJbd8HyC9",
        "outputId": "626942bb-158a-403b-d964-fb9a621a44a0"
      },
      "outputs": [
        {
          "output_type": "stream",
          "name": "stdout",
          "text": [
            "5 2 4 18 9 1\n",
            "[1, 2, 4, 5, 9, 18]\n"
          ]
        }
      ],
      "source": [
        "a= [int(x) for x in input().split()]\n",
        "a1=  sorted(a)\n",
        "print(a1)"
      ]
    },
    {
      "cell_type": "code",
      "source": [
        "a=[]\n",
        "for i in range(6):\n",
        "  b=int(input())\n",
        "  a.append(b)\n",
        "\n",
        "print(a)\n",
        "n=len(a)\n",
        "for i in range(n-1):\n",
        "  for j in range(i+1,n):\n",
        "    if a[i]>a[j]:\n",
        "      a[i],a[j]=a[j],a[i]\n",
        "\n",
        "print(a)\n"
      ],
      "metadata": {
        "colab": {
          "base_uri": "https://localhost:8080/"
        },
        "id": "oxlrChsTISrK",
        "outputId": "e01510d1-89d0-41f5-f400-ccec4659f6f6"
      },
      "execution_count": null,
      "outputs": [
        {
          "output_type": "stream",
          "name": "stdout",
          "text": [
            "5\n",
            "2\n",
            "4\n",
            "18\n",
            "9\n",
            "1\n",
            "[5, 2, 4, 18, 9, 1]\n",
            "[1, 2, 4, 5, 9, 18]\n"
          ]
        }
      ]
    },
    {
      "cell_type": "markdown",
      "source": [
        "Bài 2. Nhập một dãy số nguyên từ bàn phím, và cho biết số lần xuất hiện của từng số trong dãy số\n",
        "\n",
        "Input: 1 3 2 9 4 3 2 9 8 1 1 3 2 9 1\n",
        "\n",
        "Ouput:\n",
        "(1,4) (2,3) (3,3) (4,1) (8,1) (9,3)"
      ],
      "metadata": {
        "id": "k9ROB4N2Ns-R"
      }
    },
    {
      "cell_type": "code",
      "source": [
        "def acid(arr, n, x):\n",
        "    res = 0\n",
        "    for i in range(n):\n",
        "        if x == arr[i]:\n",
        "            res += 1\n",
        "    return res\n",
        "  \n",
        "arr = [1,3,2,9,4,3,2,9,8,1,1,3,2,9,1]\n",
        "n = len(arr)\n",
        "x = int(input())\n",
        "print(\"so lan xuat hien cua \",x,\"la\")\n",
        "print(acid(arr, n, x))"
      ],
      "metadata": {
        "colab": {
          "base_uri": "https://localhost:8080/"
        },
        "id": "G6cW2RdGM58T",
        "outputId": "3f5106cb-88ca-469d-d790-dbc088deba9b"
      },
      "execution_count": null,
      "outputs": [
        {
          "output_type": "stream",
          "name": "stdout",
          "text": [
            "1\n",
            "so lan xuat hien cua  1 la\n",
            "4\n"
          ]
        }
      ]
    },
    {
      "cell_type": "code",
      "source": [
        "x = int(input())\n",
        "print(\"so lan xuat hien cua \",x,\"la\")\n",
        "print(acid(arr, n, x))"
      ],
      "metadata": {
        "colab": {
          "base_uri": "https://localhost:8080/"
        },
        "id": "GffqBSvXQ_u6",
        "outputId": "8e2c1a80-7c45-4b5c-8302-7508e04dd6ce"
      },
      "execution_count": null,
      "outputs": [
        {
          "output_type": "stream",
          "name": "stdout",
          "text": [
            "2\n",
            "so lan xuat hien cua  2 la\n",
            "3\n"
          ]
        }
      ]
    },
    {
      "cell_type": "code",
      "source": [
        "x = int(input())\n",
        "print(\"so lan xuat hien cua \",x,\"la\")\n",
        "print(acid(arr, n, x))"
      ],
      "metadata": {
        "colab": {
          "base_uri": "https://localhost:8080/"
        },
        "id": "DU_chGxcRBdW",
        "outputId": "fbad6817-36c0-4b3d-c117-19e15108b4fd"
      },
      "execution_count": null,
      "outputs": [
        {
          "output_type": "stream",
          "name": "stdout",
          "text": [
            "3\n",
            "so lan xuat hien cua  3 la\n",
            "3\n"
          ]
        }
      ]
    },
    {
      "cell_type": "code",
      "source": [
        "x = int(input())\n",
        "print(\"so lan xuat hien cua \",x,\"la\")\n",
        "print(acid(arr, n, x))"
      ],
      "metadata": {
        "colab": {
          "base_uri": "https://localhost:8080/"
        },
        "id": "YeZfGJp0RD0x",
        "outputId": "92ae1357-0701-4ef4-994d-39b5b9fa8e13"
      },
      "execution_count": null,
      "outputs": [
        {
          "output_type": "stream",
          "name": "stdout",
          "text": [
            "4\n",
            "so lan xuat hien cua  4 la\n",
            "1\n"
          ]
        }
      ]
    },
    {
      "cell_type": "code",
      "source": [
        "x = int(input())\n",
        "print(\"so lan xuat hien cua \",x,\"la\")\n",
        "print(acid(arr, n, x))"
      ],
      "metadata": {
        "colab": {
          "base_uri": "https://localhost:8080/"
        },
        "id": "iKlfJ-aKRFOp",
        "outputId": "c811bc18-48e0-4dd3-dad9-9e4827d0372c"
      },
      "execution_count": null,
      "outputs": [
        {
          "output_type": "stream",
          "name": "stdout",
          "text": [
            "8\n",
            "so lan xuat hien cua  8 la\n",
            "1\n"
          ]
        }
      ]
    },
    {
      "cell_type": "code",
      "source": [
        "x = int(input())\n",
        "print(\"so lan xuat hien cua \",x,\"la\")\n",
        "print(acid(arr, n, x))"
      ],
      "metadata": {
        "colab": {
          "base_uri": "https://localhost:8080/"
        },
        "id": "xg6V1AqnRGnQ",
        "outputId": "52331987-ca75-427b-a557-be4bf2e3dd8f"
      },
      "execution_count": null,
      "outputs": [
        {
          "output_type": "stream",
          "name": "stdout",
          "text": [
            "9\n",
            "so lan xuat hien cua  9 la\n",
            "3\n"
          ]
        }
      ]
    },
    {
      "cell_type": "markdown",
      "source": [
        "Cài đặt ngăn xếp - stack"
      ],
      "metadata": {
        "id": "sI9QHes2yCjG"
      }
    },
    {
      "cell_type": "code",
      "source": [
        "class Nganxep:\n",
        "  def __init__(self):\n",
        "    self.danh_sach=[]\n",
        "  def la_rong(self):\n",
        "    return len(self.danh_sach)==0\n",
        "#ktra ngăn xếp rổng\n",
        "  def __str__(self):\n",
        "    kq = \"Ngan xep [\"\n",
        "    stt=0\n",
        "    for x in self.danh_sach:\n",
        "      stt=stt+1\n",
        "      if stt==1:\n",
        "        kq=kq + str(x)\n",
        "      else:\n",
        "        kq=kq +\" -> \" + str(x)\n",
        "    kq=kq+ \"]\"\n",
        "    return kq\n",
        "#chuyen danh sach ve kieu chuoi\n",
        "  def day_vao(self,gia_tri):\n",
        "    self.danh_sach.insert(0,gia_tri)\n",
        "#thuc hien dua gia tri vao chuoi\n",
        "  def lay_ra(self):\n",
        "    if self.la_rong():    \n",
        "      return None\n",
        "    else:\n",
        "      return self.danh_sach.pop(0)"
      ],
      "metadata": {
        "id": "5ckMTfwRyE6P"
      },
      "execution_count": 4,
      "outputs": []
    },
    {
      "cell_type": "code",
      "source": [
        "if __name__==\"__main__\":\n",
        "  ngan_xep = Nganxep()\n",
        "  print(ngan_xep)\n",
        "  print(\"_____day_vao_____\")\n",
        "  for i in range(1,6):\n",
        "    print(f\"__day_vao__{i}\")\n",
        "    ngan_xep.day_vao(i)\n",
        "    print(ngan_xep)\n",
        "\n",
        "  print(\"____lay_ra_____\")\n",
        "  while not ngan_xep.la_rong():\n",
        "    gt = ngan_xep.lay_ra()\n",
        "    print(f\"lay ra -> {gt}\")\n",
        "    print(ngan_xep)"
      ],
      "metadata": {
        "id": "P1fU-rmbyIkG",
        "outputId": "a05fe00e-0217-4aa6-be27-1ea9c1c8e10a",
        "colab": {
          "base_uri": "https://localhost:8080/"
        }
      },
      "execution_count": 5,
      "outputs": [
        {
          "output_type": "stream",
          "name": "stdout",
          "text": [
            "Ngan xep []\n",
            "_____day_vao_____\n",
            "__day_vao__1\n",
            "Ngan xep [1]\n",
            "__day_vao__2\n",
            "Ngan xep [2 -> 1]\n",
            "__day_vao__3\n",
            "Ngan xep [3 -> 2 -> 1]\n",
            "__day_vao__4\n",
            "Ngan xep [4 -> 3 -> 2 -> 1]\n",
            "__day_vao__5\n",
            "Ngan xep [5 -> 4 -> 3 -> 2 -> 1]\n",
            "____lay_ra_____\n",
            "lay ra -> 5\n",
            "Ngan xep [4 -> 3 -> 2 -> 1]\n",
            "lay ra -> 4\n",
            "Ngan xep [3 -> 2 -> 1]\n",
            "lay ra -> 3\n",
            "Ngan xep [2 -> 1]\n",
            "lay ra -> 2\n",
            "Ngan xep [1]\n",
            "lay ra -> 1\n",
            "Ngan xep []\n"
          ]
        }
      ]
    },
    {
      "cell_type": "markdown",
      "source": [
        "Cài đặt hàng đợi - queue"
      ],
      "metadata": {
        "id": "baLZD1cpyMRO"
      }
    },
    {
      "cell_type": "code",
      "source": [
        "class Hang_doi:\n",
        "  def __init__(self):\n",
        "    self.danh_sach= DSLK()\n",
        "\n",
        "  def __str__(self):\n",
        "    kq= \"Hang doi [\"\n",
        "    kq= kq + \"]\"\n",
        "    return kq\n",
        "  def la_rong(self):\n",
        "    return self.danh_sach.dau==None\n",
        "  \n",
        "  \n",
        "  def xep_hang(self,gia_tri):\n",
        "    self.danh_sach.hang_doi(gia_tri)  \n",
        "  def hang_ra(self):\n",
        "    if self.la_rong():\n",
        "      return None\n",
        "    else:\n",
        "      kq = self.danh_sach.lay_dau()\n",
        "      self.danh_dach.xoa_dau()"
      ],
      "metadata": {
        "id": "tCaPtPPNyMpN"
      },
      "execution_count": 6,
      "outputs": []
    }
  ]
}